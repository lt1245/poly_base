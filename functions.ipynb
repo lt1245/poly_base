{
 "cells": [
  {
   "cell_type": "code",
   "execution_count": 1,
   "metadata": {
    "collapsed": true
   },
   "outputs": [],
   "source": [
    "import numpy as np\n",
    "from numba import jit\n",
    "import matplotlib.pyplot as plt"
   ]
  },
  {
   "cell_type": "code",
   "execution_count": 2,
   "metadata": {
    "collapsed": false
   },
   "outputs": [],
   "source": [
    "@jit\n",
    "def dprod(A,B):\n",
    "    nobsa,na= A.shape\n",
    "    nobsb,nb= B.shape\n",
    "    Res= np.empty((nobsa,nb*na))\n",
    "    if (nobsa!=nobsb):\n",
    "        return 'A and B must have same number of rows'\n",
    "    for ia in range(na):\n",
    "        for ib in range(nb):\n",
    "            for t in range(nobsa):\n",
    "                Res[t,nb*(ia-1)+ib]=A[t,ia] * B[t, ib]\n",
    "    return Res"
   ]
  },
  {
   "cell_type": "code",
   "execution_count": 3,
   "metadata": {
    "collapsed": false
   },
   "outputs": [],
   "source": [
    "@jit\n",
    "def Chebnodes(p, nodetype=0):\n",
    "    n, a, b = p[0], p[1], p[2]\n",
    "    s = (b-a) / 2 \n",
    "    m = (b+a) / 2  \n",
    "    if (nodetype < 2):  # usual nodes\n",
    "        k = np.pi*np.linspace(0.5,n-0.5,n)  \n",
    "        x = m - np.cos(k[0:n]/n) * s  \n",
    "        if (nodetype == 1):  # Extend nodes to endpoints\n",
    "            aa = x[0]  \n",
    "            bb = x[-1]  \n",
    "            x = (bb*a - aa*b)/(bb-aa) + (b-a)/(bb-aa)*x\n",
    "    else: # Lobatto nodes\n",
    "        k = np.pi*np.linspace(0,n-1,n)\n",
    "        x = m - np.cos(k[0:n]/(n-1)) * s\n",
    "    return x"
   ]
  },
  {
   "cell_type": "code",
   "execution_count": 4,
   "metadata": {
    "collapsed": false
   },
   "outputs": [],
   "source": [
    "@jit\n",
    "def evalbasex(p, x):\n",
    "    n, a, b = p[0], p[1], p[2]\n",
    "    z = (2/(b-a)) * (x-(a+b)/2)\n",
    "    m = z.shape[0]\n",
    "    bas = np.empty((m, n));\n",
    "    bas[:, 0] = 1.0\n",
    "    bas[:, 1] = z[:]\n",
    "    z = 2 * z\n",
    "    for j in range(2,n):\n",
    "        for i in range(m):\n",
    "            bas[i, j] = z[i] * bas[i, j-1] - bas[i, j-2]\n",
    "    return bas"
   ]
  },
  {
   "cell_type": "code",
   "execution_count": null,
   "metadata": {
    "collapsed": false
   },
   "outputs": [],
   "source": []
  },
  {
   "cell_type": "code",
   "execution_count": null,
   "metadata": {
    "collapsed": true
   },
   "outputs": [],
   "source": []
  },
  {
   "cell_type": "code",
   "execution_count": null,
   "metadata": {
    "collapsed": false
   },
   "outputs": [],
   "source": [
    "def derivative_op(p, order=1):\n",
    "    n, a, b = p[0], p[1], p[2]\n",
    "    if (order > 0):\n",
    "        D = np.empty(max(2, order), 1)  \n",
    "        i = repeat(collect(1:n), outer=[1, n]); j = i'  # 50\n",
    "\n",
    "        # 51\n",
    "        inds = find((rem(i + j, 2) .== 1) & (j.>i))\n",
    "        r, c = similar(inds), similar(inds)\n",
    "        for i in 1:length(inds)\n",
    "            r[i], c[i] = ind2sub((n, n), inds[i])\n",
    "        end\n",
    "\n",
    "        d = sparse(r, c, (4/(b-a)) * (vec(j[1, c])-1), n-1, n)  # 52\n",
    "        d[1, :] ./= 2  # 53\n",
    "        D[1] = d  # 54\n",
    "        for ii=2:max(2, order)\n",
    "            D[ii] = d[1:n-ii, 1:n-ii+1] * D[ii-1]  # 56\n",
    "        end\n",
    "    else\n",
    "        D = cell(abs(order), 1)  # 64\n",
    "        nn = n - order  # 65\n",
    "        i = (0.25 * (b - a)) ./(1:nn)  # 66\n",
    "        d = sparse(vcat(1:nn, 1:nn-2), vcat(1:nn, 3:nn), vcat(i, -i[1:nn-2]),\n",
    "                   nn, nn)  # 67\n",
    "        d[1, 1] *= 2  # 68\n",
    "        d0 = ((-1).^(0:nn-1)') .* sum(d, 1)  # 69\n",
    "        D[1] = sparse(vcat(d0[1:n]', d[1:n, 1:n]))  # 70\n",
    "        for ii=-2:-1:order\n",
    "            ind = 1:n-ii-1\n",
    "            D[-ii] = sparse(vcat(d0[ind]', d[ind, ind]) * D[-ii-1])\n",
    "        end\n",
    "    end\n",
    "    D, n-order, a, b, Any[n, a, b]\n",
    "end"
   ]
  },
  {
   "cell_type": "code",
   "execution_count": 6,
   "metadata": {
    "collapsed": false
   },
   "outputs": [
    {
     "data": {
      "text/plain": [
       "array([[ 0.04262418,  0.58903612, -0.02798125, ..., -0.12700451,\n",
       "         0.49984957,  0.63626028],\n",
       "       [-0.09900679,  0.00371128,  0.03417576, ...,  0.92144505,\n",
       "        -1.62579291, -0.17715555],\n",
       "       [ 0.08958156, -0.10634781, -0.00622043, ...,  0.0342454 ,\n",
       "        -0.19780108,  0.40988731],\n",
       "       ..., \n",
       "       [ 0.02394596,  1.84274784, -0.38057392, ..., -0.04018703,\n",
       "        -0.02864329,  1.14297589],\n",
       "       [-0.48711327, -0.26746489,  0.04716245, ..., -0.21530735,\n",
       "        -0.26260887,  0.42527288],\n",
       "       [ 0.46252422,  0.41959075, -1.10269736, ...,  0.38944256,\n",
       "        -3.70105486,  1.38381423]])"
      ]
     },
     "execution_count": 6,
     "metadata": {},
     "output_type": "execute_result"
    }
   ],
   "source": [
    "A1=np.random.randn(10,10)\n",
    "B1=np.random.randn(10,100000)\n",
    "dprod(A1,B1)"
   ]
  },
  {
   "cell_type": "code",
   "execution_count": null,
   "metadata": {
    "collapsed": false
   },
   "outputs": [],
   "source": [
    "A= np.ones((2,3))\n",
    "B= 2*np.ones((2,2))\n",
    "C= np.empty((2,))\n",
    "na,na1=A.shape\n",
    "na"
   ]
  },
  {
   "cell_type": "code",
   "execution_count": null,
   "metadata": {
    "collapsed": false
   },
   "outputs": [],
   "source": []
  },
  {
   "cell_type": "code",
   "execution_count": 7,
   "metadata": {
    "collapsed": false
   },
   "outputs": [],
   "source": [
    "#Approximate cos(x)\n",
    "x=Chebnodes((10,0,20),2)\n",
    "y= np.cos(x)\n",
    "Phi=evalbasex((10,0,20),x)\n",
    "#Invert to get polynomial coefficients\n",
    "coeff= np.linalg.inv(Phi) @ y\n",
    "\n",
    "x1=Chebnodes((100,0,20),0)\n",
    "y1=np.cos(x1)\n",
    "Phi1=evalbasex((10,0,20),x1)\n",
    "y_approx= Phi1 @ coeff\n",
    "plt.plot(x1,y1)\n",
    "plt.plot(x1,y_approx)\n",
    "plt.show()"
   ]
  },
  {
   "cell_type": "code",
   "execution_count": null,
   "metadata": {
    "collapsed": false
   },
   "outputs": [],
   "source": []
  },
  {
   "cell_type": "code",
   "execution_count": null,
   "metadata": {
    "collapsed": false
   },
   "outputs": [],
   "source": []
  },
  {
   "cell_type": "code",
   "execution_count": null,
   "metadata": {
    "collapsed": false
   },
   "outputs": [],
   "source": []
  },
  {
   "cell_type": "code",
   "execution_count": null,
   "metadata": {
    "collapsed": false
   },
   "outputs": [],
   "source": []
  },
  {
   "cell_type": "code",
   "execution_count": null,
   "metadata": {
    "collapsed": false
   },
   "outputs": [],
   "source": []
  },
  {
   "cell_type": "code",
   "execution_count": null,
   "metadata": {
    "collapsed": true
   },
   "outputs": [],
   "source": []
  }
 ],
 "metadata": {
  "kernelspec": {
   "display_name": "Python 3",
   "language": "python",
   "name": "python3"
  },
  "language_info": {
   "codemirror_mode": {
    "name": "ipython",
    "version": 3
   },
   "file_extension": ".py",
   "mimetype": "text/x-python",
   "name": "python",
   "nbconvert_exporter": "python",
   "pygments_lexer": "ipython3",
   "version": "3.5.1"
  }
 },
 "nbformat": 4,
 "nbformat_minor": 0
}
