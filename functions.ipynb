{
 "cells": [
  {
   "cell_type": "code",
   "execution_count": 1,
   "metadata": {
    "collapsed": true
   },
   "outputs": [],
   "source": [
    "import numpy as np\n",
    "import scipy as sp\n",
    "from numba import jit\n",
    "import matplotlib.pyplot as plt"
   ]
  },
  {
   "cell_type": "markdown",
   "metadata": {},
   "source": [
    "## Low level functions\n",
    "Including: \n",
    "- dprod  - for large matrices need Sparse?\n",
    "- Chebyshev nodes  - different from the numpy version as both endpoints and Lobatto nodes are included\n",
    "- Monomial and Chebyshev basis matrix\n",
    "- Monomial and Chebyshev difference operator\n",
    "\n",
    "Need:\n",
    "- Splines\n",
    "- High level extension for multidimensional basis matrices and Chebnodes - easy"
   ]
  },
  {
   "cell_type": "code",
   "execution_count": 2,
   "metadata": {
    "collapsed": false
   },
   "outputs": [],
   "source": [
    "@jit\n",
    "def dprod(A,B):\n",
    "    nobsa,na= A.shape\n",
    "    nobsb,nb= B.shape\n",
    "    Res= np.empty((nobsa,nb*na))\n",
    "    if (nobsa!=nobsb):\n",
    "        return 'A and B must have same number of rows'\n",
    "    for t in range(nobsa):\n",
    "        for ia in range(na):\n",
    "            for ib in range(nb):            \n",
    "                Res[t,nb*(ia-1)+ib]=A[t,ia] * B[t, ib]\n",
    "    return Res"
   ]
  },
  {
   "cell_type": "code",
   "execution_count": 9,
   "metadata": {
    "collapsed": false
   },
   "outputs": [],
   "source": [
    "@jit\n",
    "def Chebnodes(p, nodetype=0): # Cheb nodes- 1d\n",
    "    n, a, b = p[0], p[1], p[2]\n",
    "    s = (b-a) / 2 \n",
    "    m = (b+a) / 2  \n",
    "    if (nodetype < 2):  # usual nodes\n",
    "        k = np.pi*np.linspace(0.5,n-0.5,n)  \n",
    "        x = m - np.cos(k[0:n]/n) * s  \n",
    "        if (nodetype == 1):  # Extend nodes to endpoints\n",
    "            aa = x[0]  \n",
    "            bb = x[-1]  \n",
    "            x = (bb*a - aa*b)/(bb-aa) + (b-a)/(bb-aa)*x\n",
    "    else: # Lobatto nodes\n",
    "        k = np.pi*np.linspace(0,n-1,n)\n",
    "        x = m - np.cos(k[0:n]/(n-1)) * s\n",
    "    return x"
   ]
  },
  {
   "cell_type": "code",
   "execution_count": 8,
   "metadata": {
    "collapsed": false
   },
   "outputs": [],
   "source": [
    "@jit\n",
    "def Chebbasex(p, x): # Cheb basis matrix - 1d\n",
    "    n, a, b = p[0], p[1], p[2]\n",
    "    z = (2/(b-a)) * (x-(a+b)/2)\n",
    "    m = z.shape[0]\n",
    "    bas = np.empty((m, n));\n",
    "    bas[:, 0] = 1.0\n",
    "    bas[:, 1] = z[:]\n",
    "    z = 2 * z\n",
    "    for i in range(m):\n",
    "        for j in range(2,n):\n",
    "            bas[i, j] = z[i] * bas[i, j-1] - bas[i, j-2]\n",
    "    return bas"
   ]
  },
  {
   "cell_type": "code",
   "execution_count": 7,
   "metadata": {
    "collapsed": false
   },
   "outputs": [],
   "source": [
    "@jit\n",
    "def Monobasex(p, x):  # Monomials basis matrix- 1d\n",
    "    n, a, b = p[0], p[1], p[2]\n",
    "    z = (2/(b-a)) * (x-(a+b)/2)\n",
    "    m = z.shape[0]\n",
    "    bas = np.empty((m, n));\n",
    "    bas[:, 0] = 1.0\n",
    "    for i in range(m):\n",
    "        for j in range(1,n):\n",
    "            bas[i, j] = z[i] * bas[i, j-1]\n",
    "    return bas"
   ]
  },
  {
   "cell_type": "code",
   "execution_count": 33,
   "metadata": {
    "collapsed": true
   },
   "outputs": [],
   "source": [
    "@jit\n",
    "def ChebDiffMatrix(p):  # Neat code from gregvw/chebyshev-methods/chebdiff.py on github\n",
    "    n, a, b = p[0], p[1], p[2]  #Differentiating matrix for Chebyshev polynomials\n",
    "    k= np.arange(n)\n",
    "    aa= (-1)**k\n",
    "    A= sp.triu(1-np.outer(aa,aa))\n",
    "    D= np.dot(A,np.diag(k))\n",
    "    D[0,:] = D[0,:]/2\n",
    "    D= D/(b-a)*2\n",
    "    return D"
   ]
  },
  {
   "cell_type": "code",
   "execution_count": 63,
   "metadata": {
    "collapsed": false
   },
   "outputs": [],
   "source": [
    "@jit\n",
    "def MonoDiffMatrix(p):  \n",
    "    n, a, b = p[0], p[1], p[2]  #Differentiating matrix for mononomials\n",
    "    k= np.arange(n)\n",
    "    D= np.zeros((n,n))\n",
    "    D[0:(n-1),:]=np.diag(k)[1:n,:]\n",
    "    D= D/(b-a)*2\n",
    "    return D"
   ]
  },
  {
   "cell_type": "markdown",
   "metadata": {},
   "source": [
    "## Test Functions\n",
    "Examples for: \n",
    "- dprod for large matrices\n",
    "- Approximating cos(x) and it's derivative using monomials and Chebyshev polynomial\n",
    "- Approximate a multidimensional function"
   ]
  },
  {
   "cell_type": "code",
   "execution_count": 6,
   "metadata": {
    "collapsed": false
   },
   "outputs": [
    {
     "name": "stdout",
     "output_type": "stream",
     "text": [
      "The slowest run took 10.92 times longer than the fastest. This could mean that an intermediate result is being cached \n",
      "10 loops, best of 3: 12.5 ms per loop\n"
     ]
    }
   ],
   "source": [
    "%%timeit\n",
    "A1=np.random.randn(100,10)\n",
    "B1=np.random.randn(100,1000)\n",
    "C1=dprod(A1,B1)"
   ]
  },
  {
   "cell_type": "code",
   "execution_count": 43,
   "metadata": {
    "collapsed": false
   },
   "outputs": [],
   "source": [
    "#Approximate cos(x) with Chebychev\n",
    "n=20\n",
    "x=Chebnodes((n,0,20),2)\n",
    "y= np.cos(x)\n",
    "Phi=Chebbasex((n,0,20),x)\n",
    "#Invert to get polynomial coefficients\n",
    "coeff= np.linalg.inv(Phi) @ y\n",
    "D=ChebDiffMatrix((n,0,20))\n",
    "x1=Chebnodes((100,0,20),0)\n",
    "y1=np.cos(x1)\n",
    "z1=-np.sin(x1)\n",
    "Phi1=Chebbasex((n,0,20),x1)\n",
    "y_approx= Phi1 @ coeff\n",
    "z_approx= Phi1 @ D @ coeff\n",
    "plt.plot(x1,z1)\n",
    "plt.plot(x1,z_approx)\n",
    "plt.show()"
   ]
  },
  {
   "cell_type": "code",
   "execution_count": 65,
   "metadata": {
    "collapsed": false
   },
   "outputs": [],
   "source": [
    "#Approximate cos(x) with monomial\n",
    "n=20\n",
    "x=Chebnodes((n,0,20),2)\n",
    "y= np.cos(x)\n",
    "Phi=Monobasex((n,0,20),x)\n",
    "#Invert to get polynomial coefficients\n",
    "coeff= np.linalg.inv(Phi) @ y\n",
    "D=MonoDiffMatrix((n,0,20))\n",
    "x1=Chebnodes((100,0,20),0)\n",
    "y1=np.cos(x1)\n",
    "z1=-np.sin(x1)\n",
    "Phi1=Monobasex((n,0,20),x1)\n",
    "y_approx= Phi1 @ coeff\n",
    "z_approx= Phi1 @ D @ coeff\n",
    "plt.plot(x1,z1)\n",
    "plt.plot(x1,z_approx)\n",
    "plt.show()"
   ]
  },
  {
   "cell_type": "code",
   "execution_count": 69,
   "metadata": {
    "collapsed": false
   },
   "outputs": [
    {
     "data": {
      "text/plain": [
       "array([[-3.        , -2.95908391, -2.83745173, -2.63842125, -2.36742153,\n",
       "        -2.03184471, -1.64084447, -1.20508627, -0.73645646, -0.24773804,\n",
       "         0.24773804,  0.73645646,  1.20508627,  1.64084447,  2.03184471,\n",
       "         2.36742153,  2.63842125,  2.83745173,  2.95908391,  3.        ],\n",
       "       [-3.        , -2.95908391, -2.83745173, -2.63842125, -2.36742153,\n",
       "        -2.03184471, -1.64084447, -1.20508627, -0.73645646, -0.24773804,\n",
       "         0.24773804,  0.73645646,  1.20508627,  1.64084447,  2.03184471,\n",
       "         2.36742153,  2.63842125,  2.83745173,  2.95908391,  3.        ],\n",
       "       [-3.        , -2.95908391, -2.83745173, -2.63842125, -2.36742153,\n",
       "        -2.03184471, -1.64084447, -1.20508627, -0.73645646, -0.24773804,\n",
       "         0.24773804,  0.73645646,  1.20508627,  1.64084447,  2.03184471,\n",
       "         2.36742153,  2.63842125,  2.83745173,  2.95908391,  3.        ],\n",
       "       [-3.        , -2.95908391, -2.83745173, -2.63842125, -2.36742153,\n",
       "        -2.03184471, -1.64084447, -1.20508627, -0.73645646, -0.24773804,\n",
       "         0.24773804,  0.73645646,  1.20508627,  1.64084447,  2.03184471,\n",
       "         2.36742153,  2.63842125,  2.83745173,  2.95908391,  3.        ],\n",
       "       [-3.        , -2.95908391, -2.83745173, -2.63842125, -2.36742153,\n",
       "        -2.03184471, -1.64084447, -1.20508627, -0.73645646, -0.24773804,\n",
       "         0.24773804,  0.73645646,  1.20508627,  1.64084447,  2.03184471,\n",
       "         2.36742153,  2.63842125,  2.83745173,  2.95908391,  3.        ],\n",
       "       [-3.        , -2.95908391, -2.83745173, -2.63842125, -2.36742153,\n",
       "        -2.03184471, -1.64084447, -1.20508627, -0.73645646, -0.24773804,\n",
       "         0.24773804,  0.73645646,  1.20508627,  1.64084447,  2.03184471,\n",
       "         2.36742153,  2.63842125,  2.83745173,  2.95908391,  3.        ],\n",
       "       [-3.        , -2.95908391, -2.83745173, -2.63842125, -2.36742153,\n",
       "        -2.03184471, -1.64084447, -1.20508627, -0.73645646, -0.24773804,\n",
       "         0.24773804,  0.73645646,  1.20508627,  1.64084447,  2.03184471,\n",
       "         2.36742153,  2.63842125,  2.83745173,  2.95908391,  3.        ],\n",
       "       [-3.        , -2.95908391, -2.83745173, -2.63842125, -2.36742153,\n",
       "        -2.03184471, -1.64084447, -1.20508627, -0.73645646, -0.24773804,\n",
       "         0.24773804,  0.73645646,  1.20508627,  1.64084447,  2.03184471,\n",
       "         2.36742153,  2.63842125,  2.83745173,  2.95908391,  3.        ],\n",
       "       [-3.        , -2.95908391, -2.83745173, -2.63842125, -2.36742153,\n",
       "        -2.03184471, -1.64084447, -1.20508627, -0.73645646, -0.24773804,\n",
       "         0.24773804,  0.73645646,  1.20508627,  1.64084447,  2.03184471,\n",
       "         2.36742153,  2.63842125,  2.83745173,  2.95908391,  3.        ],\n",
       "       [-3.        , -2.95908391, -2.83745173, -2.63842125, -2.36742153,\n",
       "        -2.03184471, -1.64084447, -1.20508627, -0.73645646, -0.24773804,\n",
       "         0.24773804,  0.73645646,  1.20508627,  1.64084447,  2.03184471,\n",
       "         2.36742153,  2.63842125,  2.83745173,  2.95908391,  3.        ],\n",
       "       [-3.        , -2.95908391, -2.83745173, -2.63842125, -2.36742153,\n",
       "        -2.03184471, -1.64084447, -1.20508627, -0.73645646, -0.24773804,\n",
       "         0.24773804,  0.73645646,  1.20508627,  1.64084447,  2.03184471,\n",
       "         2.36742153,  2.63842125,  2.83745173,  2.95908391,  3.        ],\n",
       "       [-3.        , -2.95908391, -2.83745173, -2.63842125, -2.36742153,\n",
       "        -2.03184471, -1.64084447, -1.20508627, -0.73645646, -0.24773804,\n",
       "         0.24773804,  0.73645646,  1.20508627,  1.64084447,  2.03184471,\n",
       "         2.36742153,  2.63842125,  2.83745173,  2.95908391,  3.        ],\n",
       "       [-3.        , -2.95908391, -2.83745173, -2.63842125, -2.36742153,\n",
       "        -2.03184471, -1.64084447, -1.20508627, -0.73645646, -0.24773804,\n",
       "         0.24773804,  0.73645646,  1.20508627,  1.64084447,  2.03184471,\n",
       "         2.36742153,  2.63842125,  2.83745173,  2.95908391,  3.        ],\n",
       "       [-3.        , -2.95908391, -2.83745173, -2.63842125, -2.36742153,\n",
       "        -2.03184471, -1.64084447, -1.20508627, -0.73645646, -0.24773804,\n",
       "         0.24773804,  0.73645646,  1.20508627,  1.64084447,  2.03184471,\n",
       "         2.36742153,  2.63842125,  2.83745173,  2.95908391,  3.        ],\n",
       "       [-3.        , -2.95908391, -2.83745173, -2.63842125, -2.36742153,\n",
       "        -2.03184471, -1.64084447, -1.20508627, -0.73645646, -0.24773804,\n",
       "         0.24773804,  0.73645646,  1.20508627,  1.64084447,  2.03184471,\n",
       "         2.36742153,  2.63842125,  2.83745173,  2.95908391,  3.        ],\n",
       "       [-3.        , -2.95908391, -2.83745173, -2.63842125, -2.36742153,\n",
       "        -2.03184471, -1.64084447, -1.20508627, -0.73645646, -0.24773804,\n",
       "         0.24773804,  0.73645646,  1.20508627,  1.64084447,  2.03184471,\n",
       "         2.36742153,  2.63842125,  2.83745173,  2.95908391,  3.        ],\n",
       "       [-3.        , -2.95908391, -2.83745173, -2.63842125, -2.36742153,\n",
       "        -2.03184471, -1.64084447, -1.20508627, -0.73645646, -0.24773804,\n",
       "         0.24773804,  0.73645646,  1.20508627,  1.64084447,  2.03184471,\n",
       "         2.36742153,  2.63842125,  2.83745173,  2.95908391,  3.        ],\n",
       "       [-3.        , -2.95908391, -2.83745173, -2.63842125, -2.36742153,\n",
       "        -2.03184471, -1.64084447, -1.20508627, -0.73645646, -0.24773804,\n",
       "         0.24773804,  0.73645646,  1.20508627,  1.64084447,  2.03184471,\n",
       "         2.36742153,  2.63842125,  2.83745173,  2.95908391,  3.        ],\n",
       "       [-3.        , -2.95908391, -2.83745173, -2.63842125, -2.36742153,\n",
       "        -2.03184471, -1.64084447, -1.20508627, -0.73645646, -0.24773804,\n",
       "         0.24773804,  0.73645646,  1.20508627,  1.64084447,  2.03184471,\n",
       "         2.36742153,  2.63842125,  2.83745173,  2.95908391,  3.        ],\n",
       "       [-3.        , -2.95908391, -2.83745173, -2.63842125, -2.36742153,\n",
       "        -2.03184471, -1.64084447, -1.20508627, -0.73645646, -0.24773804,\n",
       "         0.24773804,  0.73645646,  1.20508627,  1.64084447,  2.03184471,\n",
       "         2.36742153,  2.63842125,  2.83745173,  2.95908391,  3.        ]])"
      ]
     },
     "execution_count": 69,
     "metadata": {},
     "output_type": "execute_result"
    }
   ],
   "source": [
    "# Approximate the banana function - to be continued\n",
    "n= 20\n",
    "x=Chebnodes((n,-3,3),2)\n",
    "np.kron(x,np.ones((20,1)))"
   ]
  },
  {
   "cell_type": "code",
   "execution_count": null,
   "metadata": {
    "collapsed": false
   },
   "outputs": [],
   "source": []
  },
  {
   "cell_type": "code",
   "execution_count": null,
   "metadata": {
    "collapsed": false
   },
   "outputs": [],
   "source": []
  },
  {
   "cell_type": "code",
   "execution_count": null,
   "metadata": {
    "collapsed": false
   },
   "outputs": [],
   "source": []
  },
  {
   "cell_type": "code",
   "execution_count": null,
   "metadata": {
    "collapsed": false
   },
   "outputs": [],
   "source": []
  },
  {
   "cell_type": "code",
   "execution_count": null,
   "metadata": {
    "collapsed": false
   },
   "outputs": [],
   "source": []
  },
  {
   "cell_type": "code",
   "execution_count": null,
   "metadata": {
    "collapsed": false
   },
   "outputs": [],
   "source": []
  },
  {
   "cell_type": "code",
   "execution_count": null,
   "metadata": {
    "collapsed": false
   },
   "outputs": [],
   "source": []
  },
  {
   "cell_type": "code",
   "execution_count": null,
   "metadata": {
    "collapsed": true
   },
   "outputs": [],
   "source": []
  }
 ],
 "metadata": {
  "kernelspec": {
   "display_name": "Python 3",
   "language": "python",
   "name": "python3"
  },
  "language_info": {
   "codemirror_mode": {
    "name": "ipython",
    "version": 3
   },
   "file_extension": ".py",
   "mimetype": "text/x-python",
   "name": "python",
   "nbconvert_exporter": "python",
   "pygments_lexer": "ipython3",
   "version": "3.5.1"
  }
 },
 "nbformat": 4,
 "nbformat_minor": 0
}
