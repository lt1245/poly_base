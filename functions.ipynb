{
 "cells": [
  {
   "cell_type": "code",
   "execution_count": 26,
   "metadata": {
    "collapsed": true
   },
   "outputs": [],
   "source": [
    "import numpy as np\n",
    "import scipy as sp\n",
    "from numba import jit\n",
    "import matplotlib.pyplot as plt"
   ]
  },
  {
   "cell_type": "code",
   "execution_count": 20,
   "metadata": {
    "collapsed": false
   },
   "outputs": [],
   "source": [
    "@jit\n",
    "def dprod(A,B):\n",
    "    nobsa,na= A.shape\n",
    "    nobsb,nb= B.shape\n",
    "    Res= np.empty((nobsa,nb*na))\n",
    "    if (nobsa!=nobsb):\n",
    "        return 'A and B must have same number of rows'\n",
    "    for ia in range(na):\n",
    "        for ib in range(nb):\n",
    "            for t in range(nobsa):\n",
    "                Res[t,nb*(ia-1)+ib]=A[t,ia] * B[t, ib]\n",
    "    return Res"
   ]
  },
  {
   "cell_type": "code",
   "execution_count": 3,
   "metadata": {
    "collapsed": false
   },
   "outputs": [],
   "source": [
    "@jit\n",
    "def Chebnodes(p, nodetype=0):\n",
    "    n, a, b = p[0], p[1], p[2]\n",
    "    s = (b-a) / 2 \n",
    "    m = (b+a) / 2  \n",
    "    if (nodetype < 2):  # usual nodes\n",
    "        k = np.pi*np.linspace(0.5,n-0.5,n)  \n",
    "        x = m - np.cos(k[0:n]/n) * s  \n",
    "        if (nodetype == 1):  # Extend nodes to endpoints\n",
    "            aa = x[0]  \n",
    "            bb = x[-1]  \n",
    "            x = (bb*a - aa*b)/(bb-aa) + (b-a)/(bb-aa)*x\n",
    "    else: # Lobatto nodes\n",
    "        k = np.pi*np.linspace(0,n-1,n)\n",
    "        x = m - np.cos(k[0:n]/(n-1)) * s\n",
    "    return x"
   ]
  },
  {
   "cell_type": "code",
   "execution_count": 22,
   "metadata": {
    "collapsed": false
   },
   "outputs": [],
   "source": [
    "@jit\n",
    "def Chebbasex(p, x):\n",
    "    n, a, b = p[0], p[1], p[2]\n",
    "    z = (2/(b-a)) * (x-(a+b)/2)\n",
    "    m = z.shape[0]\n",
    "    bas = np.empty((m, n));\n",
    "    bas[:, 0] = 1.0\n",
    "    bas[:, 1] = z[:]\n",
    "    z = 2 * z\n",
    "    for j in range(2,n):\n",
    "        for i in range(m):\n",
    "            bas[i, j] = z[i] * bas[i, j-1] - bas[i, j-2]\n",
    "    return bas"
   ]
  },
  {
   "cell_type": "code",
   "execution_count": 24,
   "metadata": {
    "collapsed": false
   },
   "outputs": [],
   "source": [
    "@jit\n",
    "def Monobasex(p, x):  # Monomials basis matrix\n",
    "    n, a, b = p[0], p[1], p[2]\n",
    "    z = (2/(b-a)) * (x-(a+b)/2)\n",
    "    m = z.shape[0]\n",
    "    bas = np.empty((m, n));\n",
    "    bas[:, 0] = 1.0\n",
    "    bas[:, 1] = z[:]\n",
    "    for j in range(2,n):\n",
    "        for i in range(m):\n",
    "            bas[i, j] = z[i] * bas[i, j-1]\n",
    "    return bas"
   ]
  },
  {
   "cell_type": "code",
   "execution_count": 58,
   "metadata": {
    "collapsed": true
   },
   "outputs": [],
   "source": [
    "@jit\n",
    "def ChebDiffMatrix(p):  # Neat code from gregvw/chebyshev-methods/chebdiff.py on github\n",
    "    n, a, b = p[0], p[1], p[2]  #Differentiating matrix for Chebyshev polynomials\n",
    "    k= np.arange(n)\n",
    "    a= (-1)**k\n",
    "    A= sp.triu(1-np.outer(a,a))\n",
    "    D= np.dot(A,np.diag(k))\n",
    "    D[0,:] = D[0,:]/2\n",
    "    D= D/(b-a)*2\n",
    "    return D"
   ]
  },
  {
   "cell_type": "code",
   "execution_count": null,
   "metadata": {
    "collapsed": false
   },
   "outputs": [],
   "source": [
    "@jit\n",
    "def MonoDiffMatrix(p):  \n",
    "    n, a, b = p[0], p[1], p[2]  #Differentiating matrix for mononomials - not finished yet\n",
    "    k= np.arange(n)\n",
    "    a= (-1)**k\n",
    "    A= sp.triu(1-np.outer(a,a))\n",
    "    D= np.dot(A,np.diag(k))\n",
    "    D[0,:] = D[0,:]/2\n",
    "    D= D/(b-a)*2\n",
    "    return D"
   ]
  },
  {
   "cell_type": "code",
   "execution_count": 21,
   "metadata": {
    "collapsed": false
   },
   "outputs": [
    {
     "name": "stdout",
     "output_type": "stream",
     "text": [
      "The slowest run took 7.82 times longer than the fastest. This could mean that an intermediate result is being cached \n",
      "1 loops, best of 3: 165 ms per loop\n"
     ]
    }
   ],
   "source": [
    "%%timeit\n",
    "A1=np.random.randn(10,10)\n",
    "B1=np.random.randn(10,100000)\n",
    "C1=dprod(A1,B1)"
   ]
  },
  {
   "cell_type": "code",
   "execution_count": null,
   "metadata": {
    "collapsed": false
   },
   "outputs": [],
   "source": [
    "A= np.ones((2,3))\n",
    "B= 2*np.ones((2,2))\n",
    "C= np.empty((2,))\n",
    "na,na1=A.shape\n",
    "na"
   ]
  },
  {
   "cell_type": "code",
   "execution_count": 15,
   "metadata": {
    "collapsed": false
   },
   "outputs": [
    {
     "data": {
      "text/plain": [
       "(10, 1000000)"
      ]
     },
     "execution_count": 15,
     "metadata": {},
     "output_type": "execute_result"
    }
   ],
   "source": [
    "C1.shape"
   ]
  },
  {
   "cell_type": "code",
   "execution_count": 61,
   "metadata": {
    "collapsed": false
   },
   "outputs": [],
   "source": [
    "#Approximate cos(x) with Chebychev\n",
    "n=12\n",
    "x=Chebnodes((n,0,20),2)\n",
    "y= np.cos(x)\n",
    "Phi=Chebbasex((n,0,20),x)\n",
    "#Invert to get polynomial coefficients\n",
    "coeff= np.linalg.inv(Phi) @ y\n",
    "D=ChebDiffMatrix((n,0,20))\n",
    "x1=Chebnodes((100,0,20),0)\n",
    "y1=np.cos(x1)\n",
    "z1=-np.cos(x1)\n",
    "Phi1=Chebbasex((n,0,20),x1)\n",
    "y_approx= Phi1 @ coeff\n",
    "z_approx= Phi1 @ D @ D @ coeff\n",
    "plt.plot(x1,z1)\n",
    "plt.plot(x1,z_approx)\n",
    "plt.show()"
   ]
  },
  {
   "cell_type": "code",
   "execution_count": 25,
   "metadata": {
    "collapsed": false
   },
   "outputs": [],
   "source": [
    "#Approximate cos(x) with monomial\n",
    "x=Chebnodes((10,0,20),2)\n",
    "y= np.cos(x)\n",
    "Phi=Monobasex((10,0,20),x)\n",
    "#Invert to get polynomial coefficients\n",
    "coeff= np.linalg.inv(Phi) @ y\n",
    "\n",
    "x1=Chebnodes((100,0,20),0)\n",
    "y1=np.cos(x1)\n",
    "Phi1=Monobasex((10,0,20),x1)\n",
    "y_approx= Phi1 @ coeff\n",
    "plt.plot(x1,y1)\n",
    "plt.plot(x1,y_approx)\n",
    "plt.show()"
   ]
  },
  {
   "cell_type": "code",
   "execution_count": 34,
   "metadata": {
    "collapsed": false
   },
   "outputs": [],
   "source": [
    "D1=modalDiffMatrix(10)"
   ]
  },
  {
   "cell_type": "code",
   "execution_count": 35,
   "metadata": {
    "collapsed": false
   },
   "outputs": [
    {
     "data": {
      "text/plain": [
       "array([[ 0,  1,  0,  3,  0,  5,  0,  7,  0,  9],\n",
       "       [ 0,  0,  4,  0,  8,  0, 12,  0, 16,  0],\n",
       "       [ 0,  0,  0,  6,  0, 10,  0, 14,  0, 18],\n",
       "       [ 0,  0,  0,  0,  8,  0, 12,  0, 16,  0],\n",
       "       [ 0,  0,  0,  0,  0, 10,  0, 14,  0, 18],\n",
       "       [ 0,  0,  0,  0,  0,  0, 12,  0, 16,  0],\n",
       "       [ 0,  0,  0,  0,  0,  0,  0, 14,  0, 18],\n",
       "       [ 0,  0,  0,  0,  0,  0,  0,  0, 16,  0],\n",
       "       [ 0,  0,  0,  0,  0,  0,  0,  0,  0, 18],\n",
       "       [ 0,  0,  0,  0,  0,  0,  0,  0,  0,  0]])"
      ]
     },
     "execution_count": 35,
     "metadata": {},
     "output_type": "execute_result"
    }
   ],
   "source": [
    "D1"
   ]
  },
  {
   "cell_type": "code",
   "execution_count": null,
   "metadata": {
    "collapsed": false
   },
   "outputs": [],
   "source": []
  },
  {
   "cell_type": "code",
   "execution_count": null,
   "metadata": {
    "collapsed": false
   },
   "outputs": [],
   "source": []
  },
  {
   "cell_type": "code",
   "execution_count": null,
   "metadata": {
    "collapsed": true
   },
   "outputs": [],
   "source": []
  }
 ],
 "metadata": {
  "kernelspec": {
   "display_name": "Python 3",
   "language": "python",
   "name": "python3"
  },
  "language_info": {
   "codemirror_mode": {
    "name": "ipython",
    "version": 3
   },
   "file_extension": ".py",
   "mimetype": "text/x-python",
   "name": "python",
   "nbconvert_exporter": "python",
   "pygments_lexer": "ipython3",
   "version": "3.5.1"
  }
 },
 "nbformat": 4,
 "nbformat_minor": 0
}
